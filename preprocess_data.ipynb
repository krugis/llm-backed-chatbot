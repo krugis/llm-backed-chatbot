import docx
import csv
import os
# Removed: import openai
# Removed: from transformers import pipeline

# Set your OpenAI API key (This is now handled differently, see below)
# openai.api_key = "..."


def extract_text_from_doc(doc_path):
    """Extracts text from a DOCX file."""
    try:
        doc = docx.Document(doc_path)
        text = "\n".join([para.text for para in doc.paragraphs])
        return text
    except Exception as e:
        print(f"Error processing {doc_path}: {e}")
        return None

def generate_qa(text, api_key): #Added api_key as parameter
    """Generates Q&A using the OpenAI API."""
    import openai #Import here to avoid unnecessary import if no API key is provided.
    openai.api_key = api_key
    try:
        response = openai.chat.completions.create(
            model="chatgpt-4o-latest",  # More reliable and cost-effective than gpt-4o-latest
            messages=[
                {"role": "system", "content": "You are a helpful assistant that answers questions concisely. Format your response as a list of question-answer pairs, each on a new line, separated by a comma. Do not include numbers or special characters at the start or at the end."},
                {"role": "user", "content": f"Generate question-answer pairs based on this text: \n{text}"}
            ],
            #max_tokens=300,
            temperature=0.1,
        )
        qa_pairs_str = response.choices[0].message.content.strip()
        return [line.split(",", 1) for line in qa_pairs_str.splitlines() if "," in line]
    except Exception as e:
        print(f"OpenAI API error: {e}")
        return []


def save_to_csv(qa_data, csv_path):
    """Saves all Q&A pairs to a single CSV file."""
    try:
        with open(csv_path, 'w', newline='', encoding='utf-8') as csvfile:
            writer = csv.writer(csvfile)
            writer.writerow(["Question", "Answer"])
            writer.writerows(qa_data)
        print(f"Q&A pairs saved to {csv_path}")
    except Exception as e:
        print(f"Error saving CSV: {e}")


def process_all_docs(directory, csv_path, api_key):
    """Processes all DOCX files in a directory and compiles Q&A pairs into a single CSV."""
    qa_data = []
    
    for filename in os.listdir(directory):
        if filename.endswith(".docx"):
            doc_path = os.path.join(directory, filename)
            print(f"Processing: {filename}")
            text = extract_text_from_doc(doc_path)
            if text:
                qa_pairs = generate_qa(text, api_key)
                qa_data.extend(qa_pairs)
    
    if qa_data:
        save_to_csv(qa_data, csv_path)
    else:
        print("No valid Q&A pairs extracted.")

if __name__ == "__main__":
    doc_directory = "/content/training_raw_data"  # Change this to your directory containing DOCX files
    csv_output_path = "output.csv"
    api_key = "my_key"  # Replace with your actual API key
    
    process_all_docs(doc_directory, csv_output_path, api_key)
